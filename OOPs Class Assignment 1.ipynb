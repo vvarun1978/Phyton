{
 "cells": [
  {
   "cell_type": "code",
   "execution_count": null,
   "id": "c8ad0f2a",
   "metadata": {},
   "outputs": [],
   "source": [
    "# Create a class and function, and list out the items in the list"
   ]
  },
  {
   "cell_type": "code",
   "execution_count": 239,
   "id": "f8620429",
   "metadata": {},
   "outputs": [],
   "source": [
    "#List=[Machine Learning,Neural Networks,Vision,Robotics,Speech Processing,Natural Language Processing]\n",
    "\n",
    "def subfields():\n",
    "    \n",
    "    List=['Machine Learning', 'Neural Networks', 'Vision','Robotics', 'Speech Processing', 'Natural Language Processing']\n",
    "    print(\"Sub-fields in AI are: \")\n",
    "    return [sub_fields for sub_fields in List]     \n",
    "       \n",
    "        \n",
    "        \n",
    "    \n",
    "    \n",
    "      "
   ]
  },
  {
   "cell_type": "code",
   "execution_count": 240,
   "id": "593fcff7",
   "metadata": {},
   "outputs": [],
   "source": [
    "class SubfieldsInAI():\n",
    "    \n",
    "    def subfields():\n",
    "    \n",
    "        List=['Machine Learning', 'Neural Networks', 'Vision','Robotics', 'Speech Processing', 'Natural Language Processing']\n",
    "        print(\"Sub-fields in AI are: \")\n",
    "        return [sub_fields for sub_fields in List] \n",
    "        \n",
    "    "
   ]
  },
  {
   "cell_type": "code",
   "execution_count": 241,
   "id": "e2fa73ab",
   "metadata": {},
   "outputs": [
    {
     "name": "stdout",
     "output_type": "stream",
     "text": [
      "Sub-fields in AI are: \n"
     ]
    },
    {
     "data": {
      "text/plain": [
       "['Machine Learning',\n",
       " 'Neural Networks',\n",
       " 'Vision',\n",
       " 'Robotics',\n",
       " 'Speech Processing',\n",
       " 'Natural Language Processing']"
      ]
     },
     "execution_count": 241,
     "metadata": {},
     "output_type": "execute_result"
    }
   ],
   "source": [
    "SubfieldsInAI.subfields()"
   ]
  },
  {
   "cell_type": "code",
   "execution_count": null,
   "id": "1087759b",
   "metadata": {},
   "outputs": [],
   "source": [
    "# Create a function that checks whether the given number is Odd or Even"
   ]
  },
  {
   "cell_type": "code",
   "execution_count": 174,
   "id": "2548712f",
   "metadata": {},
   "outputs": [],
   "source": [
    "def OddEven():\n",
    "    num=int(input(\"Enter a number: \"))\n",
    "    if(num%2==0):\n",
    "        print(num,\"is Even number\")\n",
    "        number=\" is Even number\"\n",
    "    else:\n",
    "        print(num, \"is Odd number\")\n",
    "        number=\"is Odd number\"\n",
    "    return number"
   ]
  },
  {
   "cell_type": "code",
   "execution_count": 213,
   "id": "023a09a4",
   "metadata": {},
   "outputs": [],
   "source": [
    "class OddEven():\n",
    "    \n",
    "    def OddEven():\n",
    "        num=int(input(\"Enter a number: \"))\n",
    "        if(num%2==0):\n",
    "            number=print(num,\"is Even number\")\n",
    "            return number    \n",
    "        else:\n",
    "            number=print(num,\"is Odd number\")\n",
    "            return number\n",
    "    "
   ]
  },
  {
   "cell_type": "code",
   "execution_count": 214,
   "id": "b80e3742",
   "metadata": {},
   "outputs": [
    {
     "name": "stdout",
     "output_type": "stream",
     "text": [
      "Enter a number: 52452\n",
      "52452 is Even number\n"
     ]
    }
   ],
   "source": [
    "OddEven.OddEven()"
   ]
  },
  {
   "cell_type": "code",
   "execution_count": null,
   "id": "05bded75",
   "metadata": {},
   "outputs": [],
   "source": [
    "# Create a function that tells elegibility of marriage for male and female according to their age limit \n",
    "like 21 for male and 18 for female"
   ]
  },
  {
   "cell_type": "code",
   "execution_count": 289,
   "id": "05875f74",
   "metadata": {},
   "outputs": [],
   "source": [
    "def Eligible():\n",
    "        Gender=input(\"Your Gender: \")\n",
    "        Age=int(input(\"Your Age: \"))\n",
    "        if(Gender==\"Male\" and Age<=20):\n",
    "            print(\"Not Eligible for Marriage\")\n",
    "            Eligibility=\"Not Eligible for Marriage\"\n",
    "        elif(Gender==\"Male\" and Age>=21):\n",
    "            print(\"Eligible for Marriage\")\n",
    "            Eligibility=\"Eligible for Marriage\"\n",
    "        elif(Gender==\"Female\" and Age<=17):\n",
    "            print(\"Not Eligible for Marriage\")\n",
    "            Eligibility=\"Not Eligible for Marriage\"\n",
    "        else:\n",
    "            print(\"Eligible for Marriage\")\n",
    "            Eligibility=\"Eligible for Marriage\"\n",
    "        return Eligibility    "
   ]
  },
  {
   "cell_type": "code",
   "execution_count": 290,
   "id": "2c283d43",
   "metadata": {},
   "outputs": [],
   "source": [
    "class ElegiblityForMarriage():\n",
    "    def Eligible():\n",
    "        Gender=input(\"Your Gender: \")\n",
    "        Age=int(input(\"Your Age: \"))\n",
    "        if(Gender==\"Male\" and Age<=20):\n",
    "            print(\"Not Eligible for Marriage\")\n",
    "            Eligibility=\"Not Eligible for Marriage\"\n",
    "        elif(Gender==\"Male\" and Age>=21):\n",
    "            print(\"Eligible for Marriage\")\n",
    "            Eligibility=\"Eligible for Marriage\"\n",
    "        elif(Gender==\"Female\" and Age<=17):\n",
    "            print(\"Not Eligible for Marriage\")\n",
    "            Eligibility=\"Not Eligible for Marriage\"\n",
    "        else:\n",
    "            print(\"Eligible for Marriage\")\n",
    "            Eligibility=\"Eligible for Marriage\"\n",
    "        return Eligibility\n",
    "    "
   ]
  },
  {
   "cell_type": "code",
   "execution_count": 292,
   "id": "28c0960a",
   "metadata": {},
   "outputs": [
    {
     "name": "stdout",
     "output_type": "stream",
     "text": [
      "Your Gender: Male\n",
      "Your Age: 20\n",
      "Not Eligible for Marriage\n"
     ]
    },
    {
     "data": {
      "text/plain": [
       "'Not Eligible for Marriage'"
      ]
     },
     "execution_count": 292,
     "metadata": {},
     "output_type": "execute_result"
    }
   ],
   "source": [
    "ElegiblityForMarriage.Eligible()\n"
   ]
  },
  {
   "cell_type": "code",
   "execution_count": null,
   "id": "98053d16",
   "metadata": {},
   "outputs": [],
   "source": [
    "# calculate the percentage of your 10th mark"
   ]
  },
  {
   "cell_type": "code",
   "execution_count": 273,
   "id": "25145c79",
   "metadata": {},
   "outputs": [],
   "source": [
    "def Percentage():\n",
    "    sub1= int(input(\"Subject1: \"))\n",
    "    sub2= int(input(\"Subject2: \"))\n",
    "    sub3= int(input(\"Subject3: \"))\n",
    "    sub4= int(input(\"Subject4: \"))\n",
    "    sub5= int(input(\"Subject5: \"))\n",
    "    Total=sub1+sub2+sub3+sub4+sub5\n",
    "    print(\"Total\",Total)\n",
    "    Percentage=Total/5\n",
    "    print(\"Percentage\", Percentage)\n",
    "    percent=Percentage\n",
    "    return percent"
   ]
  },
  {
   "cell_type": "code",
   "execution_count": 275,
   "id": "c45a53ac",
   "metadata": {},
   "outputs": [
    {
     "name": "stdout",
     "output_type": "stream",
     "text": [
      "Subject1: 98\n",
      "Subject2: 87\n",
      "Subject3: 95\n",
      "Subject4: 95\n",
      "Subject5: 93\n",
      "Total 468\n",
      "Percentage 93.6\n"
     ]
    }
   ],
   "source": [
    "percent=Percentage()"
   ]
  },
  {
   "cell_type": "code",
   "execution_count": 278,
   "id": "eadc8c75",
   "metadata": {},
   "outputs": [],
   "source": [
    "class FindPercent():\n",
    "    def Percentage():\n",
    "        sub1= int(input(\"Subject1: \"))\n",
    "        sub2= int(input(\"Subject2: \"))\n",
    "        sub3= int(input(\"Subject3: \"))\n",
    "        sub4= int(input(\"Subject4: \"))\n",
    "        sub5= int(input(\"Subject5: \"))\n",
    "        Total=sub1+sub2+sub3+sub4+sub5\n",
    "        print(\"Total\",Total)\n",
    "        Percentage=Total/5\n",
    "        print(\"Percentage\", Percentage)\n",
    "        percent=Percentage\n",
    "        return percent\n"
   ]
  },
  {
   "cell_type": "code",
   "execution_count": 279,
   "id": "f7221179",
   "metadata": {},
   "outputs": [
    {
     "name": "stdout",
     "output_type": "stream",
     "text": [
      "Subject1: 98\n",
      "Subject2: 87\n",
      "Subject3: 95\n",
      "Subject4: 95\n",
      "Subject5: 93\n",
      "Total 468\n",
      "Percentage 93.6\n"
     ]
    },
    {
     "data": {
      "text/plain": [
       "93.6"
      ]
     },
     "execution_count": 279,
     "metadata": {},
     "output_type": "execute_result"
    }
   ],
   "source": [
    "FindPercent.Percentage()"
   ]
  },
  {
   "cell_type": "code",
   "execution_count": null,
   "id": "f2f11a04",
   "metadata": {},
   "outputs": [],
   "source": [
    "#print area and perimeter of triangle using class and functions"
   ]
  },
  {
   "cell_type": "code",
   "execution_count": 281,
   "id": "813e3076",
   "metadata": {},
   "outputs": [],
   "source": [
    "def triangle():    \n",
    "    Height=int(input(\"Height: \"))\n",
    "    Breadth= int(input(\"Breadth: \"))\n",
    "    print(\"Area Formula = (Height*Breadth)/2\")\n",
    "    Area=(Height*Breadth)/2\n",
    "    print(\"Area of triangle: \", Area)\n",
    "    Height1=int(input(\"Height1: \"))\n",
    "    Height2=int(input(\"Height2: \"))    \n",
    "    Breadth= int(input(\"Breadth: \"))\n",
    "    print(\"Perimeter Formula = Height1+Height2+Breadth\")\n",
    "    Perimeter = Height1+Height2+Breadth\n",
    "    print(\"Perimeter of triangle:\", Perimeter)\n",
    "    return Perimeter"
   ]
  },
  {
   "cell_type": "code",
   "execution_count": 286,
   "id": "53cdc3c3",
   "metadata": {},
   "outputs": [],
   "source": [
    "class triangle():\n",
    "    def triangle():    \n",
    "        Height=int(input(\"Height: \"))\n",
    "        Breadth= int(input(\"Breadth: \"))\n",
    "        print(\"Area Formula = (Height*Breadth)/2\")\n",
    "        Area=(Height*Breadth)/2\n",
    "        print(\"Area of triangle: \", Area)\n",
    "        Height1=int(input(\"Height1: \"))\n",
    "        Height2=int(input(\"Height2: \"))    \n",
    "        Breadth= int(input(\"Breadth: \"))\n",
    "        print(\"Perimeter Formula = Height1+Height2+Breadth\")\n",
    "        Perimeter = Height1+Height2+Breadth\n",
    "        print(\"Perimeter of triangle:\", Perimeter)\n",
    "        return Perimeter    "
   ]
  },
  {
   "cell_type": "code",
   "execution_count": 288,
   "id": "1e3485f3",
   "metadata": {},
   "outputs": [
    {
     "name": "stdout",
     "output_type": "stream",
     "text": [
      "Height: 32\n",
      "Breadth: 34\n",
      "Area Formula = (Height*Breadth)/2\n",
      "Area of triangle:  544.0\n",
      "Height1: 2\n",
      "Height2: 4\n",
      "Breadth: 4\n",
      "Perimeter Formula = Height1+Height2+Breadth\n",
      "Perimeter of triangle: 10\n"
     ]
    },
    {
     "data": {
      "text/plain": [
       "10"
      ]
     },
     "execution_count": 288,
     "metadata": {},
     "output_type": "execute_result"
    }
   ],
   "source": [
    "triangle.triangle()"
   ]
  },
  {
   "cell_type": "code",
   "execution_count": null,
   "id": "14c88a33",
   "metadata": {},
   "outputs": [],
   "source": []
  }
 ],
 "metadata": {
  "kernelspec": {
   "display_name": "Python 3 (ipykernel)",
   "language": "python",
   "name": "python3"
  },
  "language_info": {
   "codemirror_mode": {
    "name": "ipython",
    "version": 3
   },
   "file_extension": ".py",
   "mimetype": "text/x-python",
   "name": "python",
   "nbconvert_exporter": "python",
   "pygments_lexer": "ipython3",
   "version": "3.10.9"
  }
 },
 "nbformat": 4,
 "nbformat_minor": 5
}
