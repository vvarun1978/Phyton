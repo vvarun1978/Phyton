{
 "cells": [
  {
   "cell_type": "code",
   "execution_count": null,
   "id": "e0e7da2e",
   "metadata": {},
   "outputs": [],
   "source": [
    "#Subfields function"
   ]
  },
  {
   "cell_type": "code",
   "execution_count": 177,
   "id": "d2ead593",
   "metadata": {},
   "outputs": [],
   "source": [
    "list=[\"Machine Learning\",\"Neural Networks\",\"Vision\",\"Robotics\",\"Speech Processing\",\"Natural Language Processing\"]\n",
    "      \n",
    "def Subfields():\n",
    "    print(\"Sub-fields in AI are:\")\n",
    "    for area in range(0,len(list)):\n",
    "        print(list[area])"
   ]
  },
  {
   "cell_type": "code",
   "execution_count": 178,
   "id": "b9981a7d",
   "metadata": {},
   "outputs": [
    {
     "name": "stdout",
     "output_type": "stream",
     "text": [
      "Sub-fields in AI are:\n",
      "Machine Learning\n",
      "Neural Networks\n",
      "Vision\n",
      "Robotics\n",
      "Speech Processing\n",
      "Natural Language Processing\n"
     ]
    }
   ],
   "source": [
    "Subfields()"
   ]
  },
  {
   "cell_type": "code",
   "execution_count": null,
   "id": "69584806",
   "metadata": {},
   "outputs": [],
   "source": [
    "#OddEven function"
   ]
  },
  {
   "cell_type": "code",
   "execution_count": 241,
   "id": "b48129da",
   "metadata": {},
   "outputs": [],
   "source": [
    "def OddEven():\n",
    "    num=int(input(\"Enter the number\"))\n",
    "    if(num%2==0):\n",
    "        print(num, \"is an even number\")\n",
    "        return num\n",
    "    else:\n",
    "        print(num, \" is an odd number\")\n",
    "        return num"
   ]
  },
  {
   "cell_type": "code",
   "execution_count": 242,
   "id": "b47f32d7",
   "metadata": {},
   "outputs": [
    {
     "name": "stdout",
     "output_type": "stream",
     "text": [
      "Enter the number20\n",
      "20 is an even number\n"
     ]
    }
   ],
   "source": [
    "Number=OddEven()"
   ]
  },
  {
   "cell_type": "code",
   "execution_count": 243,
   "id": "06e952b5",
   "metadata": {},
   "outputs": [
    {
     "name": "stdout",
     "output_type": "stream",
     "text": [
      "None\n"
     ]
    }
   ],
   "source": [
    "print(Number)"
   ]
  },
  {
   "cell_type": "code",
   "execution_count": null,
   "id": "bf33f9bf",
   "metadata": {},
   "outputs": [],
   "source": [
    "#Eligible function"
   ]
  },
  {
   "cell_type": "code",
   "execution_count": 250,
   "id": "25474646",
   "metadata": {},
   "outputs": [],
   "source": [
    "def Eligible():\n",
    "        Gender=input(\"Your Gender: \")\n",
    "        Age=int(input(\"Your Age: \"))\n",
    "        if(Gender==\"Male\" and Age<=20):\n",
    "            print(\"Not Eligible for Marriage\")\n",
    "            Eligibility=\"Not Eligible for Marriage\"\n",
    "        elif(Gender==\"Male\" and Age>=21):\n",
    "            print(\"Eligible for Marriage\")\n",
    "            Eligibility=\"Eligible for Marriage\"\n",
    "        elif(Gender==\"Female\" and Age<=17):\n",
    "            print(\"Not Eligible for Marriage\")\n",
    "            Eligibility=\"Not Eligible for Marriage\"\n",
    "        else:\n",
    "            print(\"Eligible for Marriage\")\n",
    "            Eligibility=\"Eligible for Marriage\"\n",
    "        return Eligibility  "
   ]
  },
  {
   "cell_type": "code",
   "execution_count": 256,
   "id": "93f70fe0",
   "metadata": {},
   "outputs": [
    {
     "name": "stdout",
     "output_type": "stream",
     "text": [
      "Your Gender: Male\n",
      "Your Age: 18\n",
      "Not Eligible for Marriage\n"
     ]
    }
   ],
   "source": [
    "Eligibility=Eligible()"
   ]
  },
  {
   "cell_type": "code",
   "execution_count": null,
   "id": "f116fddc",
   "metadata": {},
   "outputs": [],
   "source": [
    "#Percentage function"
   ]
  },
  {
   "cell_type": "code",
   "execution_count": 245,
   "id": "0a03f144",
   "metadata": {},
   "outputs": [],
   "source": [
    "def Percentage():\n",
    "    sub1= int(input(\"Subject1: \"))\n",
    "    sub2= int(input(\"Subject2: \"))\n",
    "    sub3= int(input(\"Subject3: \"))\n",
    "    sub4= int(input(\"Subject4: \"))\n",
    "    sub5= int(input(\"Subject5: \"))\n",
    "    Total=sub1+sub2+sub3+sub4+sub5\n",
    "    print(\"Total\",Total)\n",
    "    Percentage=Total/5\n",
    "    print(\"Percentage\", Percentage)\n",
    "    percent=Percentage\n",
    "    return percent"
   ]
  },
  {
   "cell_type": "code",
   "execution_count": 247,
   "id": "6ce47e2c",
   "metadata": {},
   "outputs": [
    {
     "name": "stdout",
     "output_type": "stream",
     "text": [
      "Subject1: 23\n",
      "Subject2: 34\n",
      "Subject3: 45\n",
      "Subject4: 23\n",
      "Subject5: 23\n",
      "Total 148\n",
      "Percentage 29.6\n"
     ]
    }
   ],
   "source": [
    "percent=Percentage()"
   ]
  },
  {
   "cell_type": "code",
   "execution_count": null,
   "id": "1d2a7563",
   "metadata": {},
   "outputs": [],
   "source": [
    "#triangle()"
   ]
  },
  {
   "cell_type": "code",
   "execution_count": 230,
   "id": "983711c3",
   "metadata": {},
   "outputs": [],
   "source": [
    "def triangle():    \n",
    "    Height=int(input(\"Height: \"))\n",
    "    Breadth= int(input(\"Breadth: \"))\n",
    "    print(\"Area Formula = (Height*Breadth)/2\")\n",
    "    Area=(Height*Breadth)/2\n",
    "    print(\"Area of triangle: \", Area)\n",
    "    Height1=int(input(\"Height1: \"))\n",
    "    Height2=int(input(\"Height2: \"))    \n",
    "    Breadth= int(input(\"Breadth: \"))\n",
    "    print(\"Perimeter Formula = Height1+Height2+Breadth\")\n",
    "    Perimeter = Height1+Height2+Breadth\n",
    "    print(\"Perimeter of triangle:\", Perimeter)\n",
    "    return Perimeter   \n",
    "    "
   ]
  },
  {
   "cell_type": "code",
   "execution_count": 231,
   "id": "87392558",
   "metadata": {},
   "outputs": [
    {
     "name": "stdout",
     "output_type": "stream",
     "text": [
      "Height: 3\n",
      "Breadth: 4\n",
      "Area Formula = (Height*Breadth)/2\n",
      "Area of triangle:  6.0\n",
      "Height1: 3\n",
      "Height2: 4\n",
      "Breadth: 45\n",
      "Perimeter Formula = Height1+Height2+Breadth\n",
      "Perimeter of triangle: 52\n"
     ]
    }
   ],
   "source": [
    "Perimeter=triangle()\n"
   ]
  },
  {
   "cell_type": "code",
   "execution_count": null,
   "id": "2866949c",
   "metadata": {},
   "outputs": [],
   "source": []
  }
 ],
 "metadata": {
  "kernelspec": {
   "display_name": "Python 3 (ipykernel)",
   "language": "python",
   "name": "python3"
  },
  "language_info": {
   "codemirror_mode": {
    "name": "ipython",
    "version": 3
   },
   "file_extension": ".py",
   "mimetype": "text/x-python",
   "name": "python",
   "nbconvert_exporter": "python",
   "pygments_lexer": "ipython3",
   "version": "3.10.9"
  }
 },
 "nbformat": 4,
 "nbformat_minor": 5
}
