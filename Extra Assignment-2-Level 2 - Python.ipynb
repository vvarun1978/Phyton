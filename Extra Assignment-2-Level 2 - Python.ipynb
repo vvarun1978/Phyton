{
 "cells": [
  {
   "cell_type": "code",
   "execution_count": 9,
   "id": "897e0b5b",
   "metadata": {},
   "outputs": [
    {
     "name": "stdout",
     "output_type": "stream",
     "text": [
      "0\n",
      "1\n",
      "2\n",
      "3\n",
      "4\n",
      "5\n",
      "6\n",
      "7\n",
      "8\n",
      "9\n",
      "10\n",
      "11\n",
      "12\n",
      "13\n",
      "14\n",
      "15\n",
      "16\n",
      "17\n",
      "18\n",
      "19\n"
     ]
    }
   ],
   "source": [
    "num=range(0,20)\n",
    "for num in range(0,20):\n",
    "    print(num)"
   ]
  },
  {
   "cell_type": "code",
   "execution_count": 6,
   "id": "4c7c15c4",
   "metadata": {},
   "outputs": [
    {
     "name": "stdout",
     "output_type": "stream",
     "text": [
      "10 11 12 13 14 15 16 17 18 19 "
     ]
    }
   ],
   "source": [
    "i=range(10,20)\n",
    "for i in range(10,20):\n",
    "    print (i, end=\" \")  \n",
    "  "
   ]
  },
  {
   "cell_type": "code",
   "execution_count": 44,
   "id": "2e1075a0",
   "metadata": {},
   "outputs": [
    {
     "name": "stdout",
     "output_type": "stream",
     "text": [
      "A\n",
      "r\n",
      "t\n",
      "i\n",
      "f\n",
      "i\n",
      "c\n",
      "i\n",
      "a\n",
      "l\n",
      " \n",
      "I\n",
      "n\n",
      "t\n",
      "e\n",
      "l\n",
      "l\n",
      "i\n",
      "g\n",
      "e\n",
      "n\n",
      "c\n",
      "e\n"
     ]
    }
   ],
   "source": [
    "String=\"Artificial Intelligence\"\n",
    "for x in String:\n",
    "    print (x)"
   ]
  },
  {
   "cell_type": "code",
   "execution_count": 45,
   "id": "21f575be",
   "metadata": {},
   "outputs": [
    {
     "name": "stdout",
     "output_type": "stream",
     "text": [
      "- Your Name-\n",
      "- Your Age-\n",
      "- Your Profession-\n"
     ]
    }
   ],
   "source": [
    "print(\"- Your Name-\")\n",
    "print(\"- Your Age-\")\n",
    "print(\"- Your Profession-\")"
   ]
  },
  {
   "cell_type": "code",
   "execution_count": 48,
   "id": "151bd931",
   "metadata": {},
   "outputs": [
    {
     "name": "stdout",
     "output_type": "stream",
     "text": [
      "Tuple with Mixed Datatypes: \n",
      "(1, 'Welcome', 2, 'Hope')\n"
     ]
    }
   ],
   "source": [
    "Tuple1 = (1, 'Welcome', 2, 'Hope')\n",
    "print(\"Tuple with Mixed Datatypes: \")\n",
    "print(Tuple1)"
   ]
  },
  {
   "cell_type": "code",
   "execution_count": 49,
   "id": "1fda56b0",
   "metadata": {},
   "outputs": [
    {
     "name": "stdout",
     "output_type": "stream",
     "text": [
      "((0, 1, 2, 3), ('python', 'HOPE'))\n"
     ]
    }
   ],
   "source": [
    "Tuple1=(0,1,2,3)\n",
    "Tuple2=('python', 'HOPE')\n",
    "Tuple3=(Tuple1,Tuple2)\n",
    "print(Tuple3)"
   ]
  },
  {
   "cell_type": "code",
   "execution_count": null,
   "id": "f004a7da",
   "metadata": {},
   "outputs": [],
   "source": [
    "# print Odd Numbers in the list"
   ]
  },
  {
   "cell_type": "code",
   "execution_count": 54,
   "id": "57e81ce5",
   "metadata": {},
   "outputs": [
    {
     "name": "stdout",
     "output_type": "stream",
     "text": [
      "19 is odd\n",
      "25 is odd\n",
      "1 is odd\n"
     ]
    }
   ],
   "source": [
    "list=[20,10,16,19,25,1,276,188]\n",
    "for x in list:\n",
    "    if(x%2==1):\n",
    "        print(x,\"is odd\")"
   ]
  },
  {
   "cell_type": "code",
   "execution_count": null,
   "id": "c7837c41",
   "metadata": {},
   "outputs": [],
   "source": [
    "# print Even numbers in the list"
   ]
  },
  {
   "cell_type": "code",
   "execution_count": 55,
   "id": "11169b96",
   "metadata": {},
   "outputs": [
    {
     "name": "stdout",
     "output_type": "stream",
     "text": [
      "20 is Even\n",
      "10 is Even\n",
      "16 is Even\n",
      "276 is Even\n",
      "188 is Even\n"
     ]
    }
   ],
   "source": [
    "list=[20,10,16,19,25,1,276,188]\n",
    "for x in list:\n",
    "    if(x%2==0):\n",
    "        print(x,\"is Even\")"
   ]
  },
  {
   "cell_type": "code",
   "execution_count": null,
   "id": "d987b522",
   "metadata": {},
   "outputs": [],
   "source": []
  }
 ],
 "metadata": {
  "kernelspec": {
   "display_name": "Python 3 (ipykernel)",
   "language": "python",
   "name": "python3"
  },
  "language_info": {
   "codemirror_mode": {
    "name": "ipython",
    "version": 3
   },
   "file_extension": ".py",
   "mimetype": "text/x-python",
   "name": "python",
   "nbconvert_exporter": "python",
   "pygments_lexer": "ipython3",
   "version": "3.10.9"
  }
 },
 "nbformat": 4,
 "nbformat_minor": 5
}
