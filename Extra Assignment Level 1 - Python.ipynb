{
 "cells": [
  {
   "cell_type": "code",
   "execution_count": 1,
   "id": "a1cee89b",
   "metadata": {},
   "outputs": [
    {
     "name": "stdout",
     "output_type": "stream",
     "text": [
      "HOPE AI\n"
     ]
    }
   ],
   "source": [
    "print(\"HOPE AI\")"
   ]
  },
  {
   "cell_type": "code",
   "execution_count": 3,
   "id": "e9f8bee5",
   "metadata": {},
   "outputs": [
    {
     "name": "stdout",
     "output_type": "stream",
     "text": [
      "Enter your institue name?: HOPE AI\n"
     ]
    }
   ],
   "source": [
    "Institure_Name=input(\"Enter your institue name?: \")"
   ]
  },
  {
   "cell_type": "code",
   "execution_count": 4,
   "id": "bf82c005",
   "metadata": {},
   "outputs": [
    {
     "name": "stdout",
     "output_type": "stream",
     "text": [
      "Enter your name: Raj\n",
      "Enter your age: 15\n",
      "Enter your school name: Guru School\n",
      "Enter your degree: B.E CSE\n"
     ]
    }
   ],
   "source": [
    "Name=input(\"Enter your name: \")\n",
    "Age=int(input(\"Enter your age: \"))\n",
    "School=input(\"Enter your school name: \")\n",
    "Degree=input(\"Enter your degree: \")\n"
   ]
  },
  {
   "cell_type": "code",
   "execution_count": null,
   "id": "96521a9a",
   "metadata": {},
   "outputs": [],
   "source": [
    "#Addition"
   ]
  },
  {
   "cell_type": "code",
   "execution_count": 5,
   "id": "0ac8c74d",
   "metadata": {},
   "outputs": [
    {
     "name": "stdout",
     "output_type": "stream",
     "text": [
      "a= 43\n",
      "b= 34\n",
      "Add= 77\n"
     ]
    }
   ],
   "source": [
    "a=43\n",
    "print(\"a=\", a)\n",
    "b=34\n",
    "print(\"b=\", b)\n",
    "Add=a+b\n",
    "print(\"Add=\", Add)"
   ]
  },
  {
   "cell_type": "code",
   "execution_count": null,
   "id": "0bc03f18",
   "metadata": {},
   "outputs": [],
   "source": [
    "#Subtraction"
   ]
  },
  {
   "cell_type": "code",
   "execution_count": 6,
   "id": "dd0ac590",
   "metadata": {},
   "outputs": [
    {
     "name": "stdout",
     "output_type": "stream",
     "text": [
      "a= 43\n",
      "b= 34\n",
      "Sub= 9\n"
     ]
    }
   ],
   "source": [
    "a=43\n",
    "print(\"a=\", a)\n",
    "b=34\n",
    "print(\"b=\", b)\n",
    "Sub=a-b\n",
    "print(\"Sub=\", Sub)"
   ]
  },
  {
   "cell_type": "code",
   "execution_count": null,
   "id": "50fee0b7",
   "metadata": {},
   "outputs": [],
   "source": [
    "#Multiplication"
   ]
  },
  {
   "cell_type": "code",
   "execution_count": 8,
   "id": "c795dfa3",
   "metadata": {},
   "outputs": [
    {
     "name": "stdout",
     "output_type": "stream",
     "text": [
      "a= 63\n",
      "b= 97\n",
      "Mul= 6111\n"
     ]
    }
   ],
   "source": [
    "a=63\n",
    "print(\"a=\", a)\n",
    "b=97\n",
    "print(\"b=\", b)\n",
    "Mul=a*b\n",
    "print(\"Mul=\", Mul)"
   ]
  },
  {
   "cell_type": "code",
   "execution_count": null,
   "id": "f4ee14bb",
   "metadata": {},
   "outputs": [],
   "source": [
    "#Division"
   ]
  },
  {
   "cell_type": "code",
   "execution_count": 14,
   "id": "0af142ee",
   "metadata": {},
   "outputs": [
    {
     "name": "stdout",
     "output_type": "stream",
     "text": [
      "a= 76\n",
      "b= 31\n",
      "Float Div= 2.4516129032258065\n"
     ]
    }
   ],
   "source": [
    "a=76\n",
    "print(\"a=\", a)\n",
    "b=31\n",
    "print(\"b=\", b)\n",
    "Float_Div=a/b\n",
    "print(\"Float Div=\", Float_Div)"
   ]
  },
  {
   "cell_type": "code",
   "execution_count": null,
   "id": "0c678b76",
   "metadata": {},
   "outputs": [],
   "source": [
    "#Floor Division"
   ]
  },
  {
   "cell_type": "code",
   "execution_count": 15,
   "id": "ed17c97d",
   "metadata": {},
   "outputs": [
    {
     "name": "stdout",
     "output_type": "stream",
     "text": [
      "a= 76\n",
      "b= 31\n",
      "Floor Div= 2\n"
     ]
    }
   ],
   "source": [
    "a=76\n",
    "print(\"a=\", a)\n",
    "b=31\n",
    "print(\"b=\", b)\n",
    "Floor_Div=a//b\n",
    "print(\"Floor Div=\", Floor_Div)"
   ]
  },
  {
   "cell_type": "code",
   "execution_count": null,
   "id": "258c6393",
   "metadata": {},
   "outputs": [],
   "source": [
    "#Modulo"
   ]
  },
  {
   "cell_type": "code",
   "execution_count": 16,
   "id": "e18b124b",
   "metadata": {},
   "outputs": [
    {
     "name": "stdout",
     "output_type": "stream",
     "text": [
      "a= 76\n",
      "b= 31\n",
      "Modulo= 14\n"
     ]
    }
   ],
   "source": [
    "a=76\n",
    "print(\"a=\", a)\n",
    "b=31\n",
    "print(\"b=\", b)\n",
    "Modulo=a%b\n",
    "print(\"Modulo=\", Modulo)"
   ]
  },
  {
   "cell_type": "code",
   "execution_count": null,
   "id": "c2cdef47",
   "metadata": {},
   "outputs": [],
   "source": [
    "#Power"
   ]
  },
  {
   "cell_type": "code",
   "execution_count": 17,
   "id": "75312b90",
   "metadata": {},
   "outputs": [
    {
     "name": "stdout",
     "output_type": "stream",
     "text": [
      "a= 4\n",
      "b= 4\n",
      "Power= 256\n"
     ]
    }
   ],
   "source": [
    "a=4\n",
    "print(\"a=\", a)\n",
    "b=4\n",
    "print(\"b=\", b)\n",
    "Power=a**b\n",
    "print(\"Power=\", Power)"
   ]
  },
  {
   "cell_type": "code",
   "execution_count": null,
   "id": "28f3104e",
   "metadata": {},
   "outputs": [],
   "source": []
  }
 ],
 "metadata": {
  "kernelspec": {
   "display_name": "Python 3 (ipykernel)",
   "language": "python",
   "name": "python3"
  },
  "language_info": {
   "codemirror_mode": {
    "name": "ipython",
    "version": 3
   },
   "file_extension": ".py",
   "mimetype": "text/x-python",
   "name": "python",
   "nbconvert_exporter": "python",
   "pygments_lexer": "ipython3",
   "version": "3.10.9"
  }
 },
 "nbformat": 4,
 "nbformat_minor": 5
}
