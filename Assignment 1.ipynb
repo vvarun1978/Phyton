{
 "cells": [
  {
   "cell_type": "code",
   "execution_count": 1,
   "id": "5661fe19",
   "metadata": {},
   "outputs": [
    {
     "name": "stdout",
     "output_type": "stream",
     "text": [
      "Welcone to Assignment -1\n"
     ]
    }
   ],
   "source": [
    "print(\"Welcone to Assignment -1\")"
   ]
  },
  {
   "cell_type": "code",
   "execution_count": 9,
   "id": "6951f89c",
   "metadata": {
    "scrolled": true
   },
   "outputs": [
    {
     "name": "stdout",
     "output_type": "stream",
     "text": [
      "Num1 = 10\n",
      "Num2 = 30\n",
      "Add = 40\n"
     ]
    }
   ],
   "source": [
    "Num1=10\n",
    "print(\"Num1 =\",Num1)\n",
    "Num2=30\n",
    "print(\"Num2 =\",Num2)\n",
    "Add= Num1+Num2\n",
    "print(\"Add =\",Add)"
   ]
  },
  {
   "cell_type": "markdown",
   "id": "23b2d9e8",
   "metadata": {},
   "source": [
    "#Body Mass Index Criteria\n",
    "#<=18.5 - Underweight\n",
    "#<=25 - Normal\n",
    "#<=30 - Overweight\n",
    "#>31 - Very Overweight\n"
   ]
  },
  {
   "cell_type": "code",
   "execution_count": 41,
   "id": "5cbf49ff",
   "metadata": {},
   "outputs": [
    {
     "name": "stdout",
     "output_type": "stream",
     "text": [
      "Enter the Body Mass Index: 31\n"
     ]
    }
   ],
   "source": [
    "BMI=int(input(\"Enter the Body Mass Index: \"))"
   ]
  },
  {
   "cell_type": "code",
   "execution_count": 42,
   "id": "e6fce871",
   "metadata": {},
   "outputs": [
    {
     "name": "stdout",
     "output_type": "stream",
     "text": [
      "Very Overweight\n"
     ]
    }
   ],
   "source": [
    "if(BMI<=19):\n",
    "    print(\"Underweight\")\n",
    "elif(BMI<=25):\n",
    "    print(\"Normal\")\n",
    "elif(BMI<=30):\n",
    "    print(\"Overweight\")\n",
    "else:\n",
    "    print(\"Very Overweight\") "
   ]
  },
  {
   "cell_type": "code",
   "execution_count": null,
   "id": "56fd459c",
   "metadata": {},
   "outputs": [],
   "source": []
  },
  {
   "cell_type": "code",
   "execution_count": null,
   "id": "48323bb0",
   "metadata": {},
   "outputs": [],
   "source": []
  }
 ],
 "metadata": {
  "kernelspec": {
   "display_name": "Python 3 (ipykernel)",
   "language": "python",
   "name": "python3"
  },
  "language_info": {
   "codemirror_mode": {
    "name": "ipython",
    "version": 3
   },
   "file_extension": ".py",
   "mimetype": "text/x-python",
   "name": "python",
   "nbconvert_exporter": "python",
   "pygments_lexer": "ipython3",
   "version": "3.10.9"
  }
 },
 "nbformat": 4,
 "nbformat_minor": 5
}
